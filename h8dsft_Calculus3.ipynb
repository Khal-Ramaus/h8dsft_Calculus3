{
  "nbformat": 4,
  "nbformat_minor": 0,
  "metadata": {
    "colab": {
      "name": "h8dsft_Calculus3.ipynb",
      "provenance": [],
      "collapsed_sections": [],
      "authorship_tag": "ABX9TyMvPR1ySx91YqPgPq3bayJ8",
      "include_colab_link": true
    },
    "kernelspec": {
      "name": "python3",
      "display_name": "Python 3"
    },
    "language_info": {
      "name": "python"
    }
  },
  "cells": [
    {
      "cell_type": "markdown",
      "metadata": {
        "id": "view-in-github",
        "colab_type": "text"
      },
      "source": [
        "<a href=\"https://colab.research.google.com/github/Khal-Ramaus/h8dsft_Calculus3/blob/master/h8dsft_Calculus3.ipynb\" target=\"_parent\"><img src=\"https://colab.research.google.com/assets/colab-badge.svg\" alt=\"Open In Colab\"/></a>"
      ]
    },
    {
      "cell_type": "markdown",
      "metadata": {
        "id": "ULsRItA2ucW4"
      },
      "source": [
        "Haikal Ramadhan Usman\n",
        "\n",
        "Non Graded Challenge 9"
      ]
    },
    {
      "cell_type": "markdown",
      "metadata": {
        "id": "MdoAbEdEunK6"
      },
      "source": [
        "Gradient dari :\n",
        "$3x + 4y = 5$"
      ]
    },
    {
      "cell_type": "markdown",
      "metadata": {
        "id": "T-MmCcmAu2H-"
      },
      "source": [
        "$3x + 4y = 5$ sama seperti $3x + 4y - 5 = 0$"
      ]
    },
    {
      "cell_type": "markdown",
      "metadata": {
        "id": "MevGU1OfvET7"
      },
      "source": [
        "**Turunan Parsial**"
      ]
    },
    {
      "cell_type": "code",
      "metadata": {
        "id": "X1-eYsMouaP0"
      },
      "source": [
        "import sympy as sy\n",
        "\n",
        "x, y = sy.symbols('x y', real=True)\n",
        "f = 3*x+4*y-5"
      ],
      "execution_count": 1,
      "outputs": []
    },
    {
      "cell_type": "code",
      "metadata": {
        "colab": {
          "base_uri": "https://localhost:8080/",
          "height": 37
        },
        "id": "hf8XdBhBvgXD",
        "outputId": "3b6f8b08-b8c7-4780-af91-03209b698885"
      },
      "source": [
        "sy.diff(f,x)"
      ],
      "execution_count": 2,
      "outputs": [
        {
          "output_type": "execute_result",
          "data": {
            "text/latex": "$\\displaystyle 3$",
            "text/plain": [
              "3"
            ]
          },
          "metadata": {
            "tags": []
          },
          "execution_count": 2
        }
      ]
    },
    {
      "cell_type": "code",
      "metadata": {
        "colab": {
          "base_uri": "https://localhost:8080/",
          "height": 37
        },
        "id": "p1nQKW_ZwEML",
        "outputId": "8d496340-ff05-4caf-f317-9447362cd2c4"
      },
      "source": [
        "sy.diff(f,y)"
      ],
      "execution_count": 3,
      "outputs": [
        {
          "output_type": "execute_result",
          "data": {
            "text/latex": "$\\displaystyle 4$",
            "text/plain": [
              "4"
            ]
          },
          "metadata": {
            "tags": []
          },
          "execution_count": 3
        }
      ]
    },
    {
      "cell_type": "markdown",
      "metadata": {
        "id": "Ij5SvO7lwKe4"
      },
      "source": [
        "**Gradient**"
      ]
    },
    {
      "cell_type": "code",
      "metadata": {
        "colab": {
          "base_uri": "https://localhost:8080/",
          "height": 38
        },
        "id": "zUwkSCaKwPO2",
        "outputId": "bb54e1ba-ab6b-4da4-e986-c43e2b03698e"
      },
      "source": [
        "from sympy.tensor.array import derive_by_array\n",
        "gradient=derive_by_array(f,(x, y))\n",
        "gradient"
      ],
      "execution_count": 7,
      "outputs": [
        {
          "output_type": "execute_result",
          "data": {
            "text/latex": "$\\displaystyle \\left[\\begin{matrix}3 & 4\\end{matrix}\\right]$",
            "text/plain": [
              "[3, 4]"
            ]
          },
          "metadata": {
            "tags": []
          },
          "execution_count": 7
        }
      ]
    },
    {
      "cell_type": "code",
      "metadata": {
        "colab": {
          "base_uri": "https://localhost:8080/",
          "height": 269
        },
        "id": "9bKMM54cwviq",
        "outputId": "9aac571c-244e-41a5-a650-1ac3d983b125"
      },
      "source": [
        "%matplotlib inline\n",
        "import matplotlib.pyplot as plt\n",
        "\n",
        "x_koor, y_koor = zip(gradient) \n",
        "plt.scatter(x_koor, y_koor,color=[\"g\"])\n",
        "plt.axis([0, 6, 0, 6])\n",
        "plt.grid()\n",
        "plt.show()"
      ],
      "execution_count": 10,
      "outputs": [
        {
          "output_type": "display_data",
          "data": {
            "image/png": "[encoded data removed]",
            "text/plain": [
              "<Figure size 432x288 with 1 Axes>"
            ]
          },
          "metadata": {
            "tags": [],
            "needs_background": "light"
          }
        }
      ]
    }
  ]
}